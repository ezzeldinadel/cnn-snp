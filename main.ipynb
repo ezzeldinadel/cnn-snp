{
 "cells": [
  {
   "cell_type": "code",
   "execution_count": 1,
   "metadata": {
    "collapsed": false,
    "deletable": true,
    "editable": true
   },
   "outputs": [
    {
     "name": "stderr",
     "output_type": "stream",
     "text": [
      "Using TensorFlow backend.\n"
     ]
    },
    {
     "name": "stdout",
     "output_type": "stream",
     "text": [
      "Couldn't import dot_parser, loading of dot files will not be possible.\n"
     ]
    }
   ],
   "source": [
    "import pandas as pd\n",
    "import numpy as np\n",
    "\n",
    "import keras\n",
    "from keras.models import Sequential\n",
    "from keras.layers import Dense, Dropout, Flatten\n",
    "from keras.layers import Conv2D, MaxPooling2D\n",
    "from keras.optimizers import SGD, Adam"
   ]
  },
  {
   "cell_type": "code",
   "execution_count": 2,
   "metadata": {
    "collapsed": true,
    "deletable": true,
    "editable": true
   },
   "outputs": [],
   "source": [
    "path = './data/full.csv'\n",
    "\n",
    "# load full data\n",
    "D = pd.read_csv(path, index_col=0)"
   ]
  },
  {
   "cell_type": "code",
   "execution_count": 3,
   "metadata": {
    "collapsed": true,
    "deletable": true,
    "editable": true
   },
   "outputs": [],
   "source": [
    "# extract inputs/targets\n",
    "target_cols = list(filter(lambda x: 'c1_c0' in x, D.columns.values))\n",
    "input_cols  = list(filter(lambda x: 'c1_c0' not in x, D.columns.values))\n",
    "InputDF = D[input_cols]\n",
    "TargetDF = D[target_cols]\n",
    "\n",
    "# into numpy format\n",
    "InputDF = InputDF.as_matrix()\n",
    "TargetDF = TargetDF.as_matrix()"
   ]
  },
  {
   "cell_type": "code",
   "execution_count": 4,
   "metadata": {
    "collapsed": false,
    "deletable": true,
    "editable": true
   },
   "outputs": [],
   "source": [
    "# 6 values, from 440 symbols, over 2768 days\n",
    "total_days = InputDF.shape[0]\n",
    "channels = 6\n",
    "tickers = InputDF.shape[1]/channels\n",
    "InputDF = np.reshape(InputDF, (total_days, tickers, channels))"
   ]
  },
  {
   "cell_type": "code",
   "execution_count": 5,
   "metadata": {
    "collapsed": false,
    "deletable": true,
    "editable": true
   },
   "outputs": [
    {
     "name": "stdout",
     "output_type": "stream",
     "text": [
      "(2241, 28, 440, 6) (2241, 440)\n",
      "(500, 28, 440, 6) (500, 440)\n"
     ]
    }
   ],
   "source": [
    "# data params\n",
    "test_size = 500;\n",
    "window_size = 28;\n",
    "\n",
    "\n",
    "X_train = np.array([InputDF[i:i + window_size] for i in range(InputDF.shape[0] - (test_size + window_size - 1) )])\n",
    "X_test = np.array([InputDF[i:i + window_size] for i in range(InputDF.shape[0] - (test_size + window_size - 1), InputDF.shape[0] - window_size + 1)])\n",
    "\n",
    "y_train = TargetDF[window_size - 1 : -test_size]\n",
    "y_test = TargetDF[-test_size:]\n",
    "\n",
    "# data shape\n",
    "print X_train.shape, y_train.shape\n",
    "print X_test.shape, y_test.shape"
   ]
  },
  {
   "cell_type": "code",
   "execution_count": 23,
   "metadata": {
    "collapsed": true,
    "deletable": true,
    "editable": true
   },
   "outputs": [],
   "source": [
    "# KERAS STARTS HERE\n",
    "batch_size = 16\n",
    "epochs = 30\n",
    "\n",
    "# dimensions\n",
    "input_shape = (window_size, tickers, channels)"
   ]
  },
  {
   "cell_type": "code",
   "execution_count": 27,
   "metadata": {
    "collapsed": false,
    "deletable": true,
    "editable": true
   },
   "outputs": [
    {
     "name": "stdout",
     "output_type": "stream",
     "text": [
      "_________________________________________________________________\n",
      "Layer (type)                 Output Shape              Param #   \n",
      "=================================================================\n",
      "conv2d_19 (Conv2D)           (None, 24, 436, 16)       2416      \n",
      "_________________________________________________________________\n",
      "conv2d_20 (Conv2D)           (None, 22, 434, 32)       4640      \n",
      "_________________________________________________________________\n",
      "max_pooling2d_10 (MaxPooling (None, 11, 217, 32)       0         \n",
      "_________________________________________________________________\n",
      "dropout_15 (Dropout)         (None, 11, 217, 32)       0         \n",
      "_________________________________________________________________\n",
      "flatten_8 (Flatten)          (None, 76384)             0         \n",
      "_________________________________________________________________\n",
      "dense_15 (Dense)             (None, 512)               39109120  \n",
      "_________________________________________________________________\n",
      "dropout_16 (Dropout)         (None, 512)               0         \n",
      "_________________________________________________________________\n",
      "dense_16 (Dense)             (None, 440)               225720    \n",
      "=================================================================\n",
      "Total params: 39,341,896\n",
      "Trainable params: 39,341,896\n",
      "Non-trainable params: 0\n",
      "_________________________________________________________________\n",
      "None\n"
     ]
    }
   ],
   "source": [
    "# model definition\n",
    "# ADD PADDING??\n",
    "model = Sequential()\n",
    "model.add(Conv2D(16, kernel_size=(5, 5), activation='relu', input_shape=input_shape))\n",
    "model.add(Conv2D(32, kernel_size=(3, 3), activation='relu'))\n",
    "model.add(MaxPooling2D(pool_size=(2, 2)))\n",
    "# model.add(Conv2D(64, kernel_size=(3, 3), activation='relu'))\n",
    "# model.add(Conv2D(128, kernel_size=(3, 3), activation='relu'))\n",
    "# model.add(MaxPooling2D(pool_size=(2, 2)))\n",
    "model.add(Dropout(0.25))\n",
    "model.add(Flatten())\n",
    "model.add(Dense(512, activation='relu'))\n",
    "model.add(Dropout(0.5))\n",
    "model.add(Dense(440))\n",
    "\n",
    "print model.summary()\n",
    "\n",
    "model.load_weights('weights-lowhidden.h5')"
   ]
  },
  {
   "cell_type": "code",
   "execution_count": 29,
   "metadata": {
    "collapsed": false,
    "deletable": true,
    "editable": true,
    "scrolled": true
   },
   "outputs": [],
   "source": [
    "#sgd = SGD(lr=0.03, decay=1e-6, momentum=0.9, nesterov=True)\n",
    "adam = Adam(lr=0.001, beta_1=0.9, beta_2=0.999, epsilon=1e-08, decay=0.0)\n",
    "model.compile(loss='mean_squared_error', optimizer=adam)\n",
    "\n",
    "tensorboard = keras.callbacks.TensorBoard(log_dir='./logs/5')\n",
    "reduce_lr = keras.callbacks.ReduceLROnPlateau(monitor='val_loss', factor=0.5, patience=5, min_lr=0.0001)\n",
    "\n",
    "# model.fit(X_train, y_train,\n",
    "#           batch_size=batch_size,\n",
    "#           epochs=epochs,\n",
    "#           verbose=1,\n",
    "#           validation_data=(X_test, y_test), callbacks=[tensorboard, reduce_lr])"
   ]
  },
  {
   "cell_type": "code",
   "execution_count": 30,
   "metadata": {
    "collapsed": false,
    "deletable": true,
    "editable": true
   },
   "outputs": [
    {
     "name": "stdout",
     "output_type": "stream",
     "text": [
      "Test loss: 0.000384559142636\n"
     ]
    }
   ],
   "source": [
    "score = model.evaluate(X_test, y_test, verbose=0)\n",
    "\n",
    "print 'Test loss:', score\n",
    "# print('Test accuracy:', score[1])"
   ]
  },
  {
   "cell_type": "code",
   "execution_count": 175,
   "metadata": {
    "collapsed": false,
    "deletable": true,
    "editable": true
   },
   "outputs": [
    {
     "name": "stdout",
     "output_type": "stream",
     "text": [
      "68412\n",
      "4114\n",
      "147474\n"
     ]
    }
   ],
   "source": [
    "predictions = model.predict(X_test)\n",
    "\n",
    "def labeler(x):\n",
    "    margin = 0.005\n",
    "    labels = np.zeros(x.shape)\n",
    "    labels[np.where(x > np.log(1 + margin))] = 1\n",
    "    labels[np.where(x < np.log(1 - margin))] = -1\n",
    "    \n",
    "    return labels\n",
    "\n",
    "returns = np.apply_along_axis(labeler,\n",
    "                              axis=1,\n",
    "                              arr=predictions)\n",
    "\n",
    "# print predictions\n",
    "# print '---------------------------------------------------------'\n",
    "# print y_test\n",
    "# print '---------------------------------------------------------'\n",
    "print len(np.where(returns == 1)[1])\n",
    "print len(np.where(returns == -1)[1])\n",
    "print len(np.where(returns == 0)[1])"
   ]
  },
  {
   "cell_type": "code",
   "execution_count": 185,
   "metadata": {
    "collapsed": false,
    "deletable": true,
    "editable": true
   },
   "outputs": [
    {
     "name": "stdout",
     "output_type": "stream",
     "text": [
      "[array([-1.14904314, -0.94280115, -0.91082526, ..., -0.01271457,\n",
      "       -0.01271448, -0.01271446]), array([-0.01271441, -0.01271433, -0.01271411, ..., -0.00313783,\n",
      "       -0.0031378 , -0.00313774]), array([-0.0031376 , -0.00313755, -0.00313745, ...,  0.00385198,\n",
      "        0.00385199,  0.003852  ]), array([ 0.00385203,  0.00385205,  0.00385208, ...,  0.01354637,\n",
      "        0.01354639,  0.01354641]), array([ 0.01354643,  0.01354654,  0.01354662, ...,  0.609564  ,\n",
      "        0.65953532,  0.70279545])]\n"
     ]
    }
   ],
   "source": [
    "n = TargetDF.flatten()\n",
    "n = np.sort(n)\n",
    "n = np.split(n, 5)\n",
    "print n"
   ]
  },
  {
   "cell_type": "code",
   "execution_count": 189,
   "metadata": {
    "collapsed": false,
    "deletable": true,
    "editable": true,
    "scrolled": true
   },
   "outputs": [
    {
     "name": "stdout",
     "output_type": "stream",
     "text": [
      "[-0.00184591 -0.00179229 -0.00178894 ...,  0.00184795  0.00192746\n",
      "  0.00197287]\n",
      "0.00197287\n",
      "-0.00184591\n",
      "[array([ -1.84590928e-03,  -1.79228524e-03,  -1.78894028e-03, ...,\n",
      "         4.56225607e-05,   4.56239723e-05,   4.56301168e-05], dtype=float32), array([  4.56726339e-05,   4.56969792e-05,   4.56987109e-05, ...,\n",
      "         2.44603289e-04,   2.44604773e-04,   2.44611176e-04], dtype=float32), array([ 0.00024464,  0.00024465,  0.00024466, ...,  0.00041278,\n",
      "        0.00041278,  0.00041279], dtype=float32), array([ 0.00041279,  0.0004128 ,  0.00041281, ...,  0.00063044,\n",
      "        0.00063044,  0.00063044], dtype=float32), array([ 0.00063044,  0.00063044,  0.00063044, ...,  0.00184795,\n",
      "        0.00192746,  0.00197287], dtype=float32)]\n"
     ]
    }
   ],
   "source": [
    "n = predictions.flatten()\n",
    "n = np.sort(n)\n",
    "print n\n",
    "print n.max()\n",
    "print n.min()\n",
    "n = np.split(n, 5)\n",
    "print n"
   ]
  },
  {
   "cell_type": "code",
   "execution_count": 17,
   "metadata": {
    "collapsed": true,
    "deletable": true,
    "editable": true
   },
   "outputs": [],
   "source": [
    "model.save_weights('weights-lowhidden.h5')"
   ]
  },
  {
   "cell_type": "code",
   "execution_count": null,
   "metadata": {
    "collapsed": true,
    "deletable": true,
    "editable": true
   },
   "outputs": [],
   "source": []
  }
 ],
 "metadata": {
  "kernelspec": {
   "display_name": "Python 2",
   "language": "python",
   "name": "python2"
  },
  "language_info": {
   "codemirror_mode": {
    "name": "ipython",
    "version": 2
   },
   "file_extension": ".py",
   "mimetype": "text/x-python",
   "name": "python",
   "nbconvert_exporter": "python",
   "pygments_lexer": "ipython2",
   "version": "2.7.12"
  }
 },
 "nbformat": 4,
 "nbformat_minor": 2
}
