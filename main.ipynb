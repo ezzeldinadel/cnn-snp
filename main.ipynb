{
 "cells": [
  {
   "cell_type": "code",
   "execution_count": 14,
   "metadata": {
    "collapsed": false,
    "deletable": true,
    "editable": true
   },
   "outputs": [],
   "source": [
    "%matplotlib inline\n",
    "\n",
    "# libs\n",
    "\n",
    "# data\n",
    "import pandas as pd\n",
    "import numpy as np\n",
    "\n",
    "# CNN\n",
    "import keras\n",
    "from keras.models import Sequential\n",
    "from keras.layers import Dense, Dropout, Flatten, Activation, BatchNormalization\n",
    "from keras.layers import Conv2D, MaxPooling2D\n",
    "from keras.optimizers import SGD, Adam\n",
    "\n",
    "# plot\n",
    "import matplotlib.pyplot as plt"
   ]
  },
  {
   "cell_type": "code",
   "execution_count": 15,
   "metadata": {
    "collapsed": true,
    "deletable": true,
    "editable": true
   },
   "outputs": [],
   "source": [
    "path = './data/full.csv'\n",
    "\n",
    "# load full data\n",
    "D = pd.read_csv(path, index_col=0)"
   ]
  },
  {
   "cell_type": "code",
   "execution_count": 16,
   "metadata": {
    "collapsed": true,
    "deletable": true,
    "editable": true
   },
   "outputs": [],
   "source": [
    "# extract inputs/targets\n",
    "target_cols = list(filter(lambda x: 'c1_c0' in x, D.columns.values))\n",
    "input_cols  = list(filter(lambda x: 'c1_c0' not in x, D.columns.values))\n",
    "InputDF = D[input_cols]\n",
    "TargetDF = D[target_cols]\n",
    "\n",
    "# into numpy format\n",
    "InputDF = InputDF.as_matrix()\n",
    "TargetDF = TargetDF.as_matrix()"
   ]
  },
  {
   "cell_type": "code",
   "execution_count": 17,
   "metadata": {
    "collapsed": false,
    "deletable": true,
    "editable": true
   },
   "outputs": [],
   "source": [
    "# 6 values, from 440 symbols, over 2768 days\n",
    "total_days = InputDF.shape[0]\n",
    "channels = 6\n",
    "tickers = InputDF.shape[1]/channels\n",
    "InputDF = np.reshape(InputDF, (total_days, tickers, channels))"
   ]
  },
  {
   "cell_type": "code",
   "execution_count": 18,
   "metadata": {
    "collapsed": false,
    "deletable": true,
    "editable": true
   },
   "outputs": [
    {
     "name": "stdout",
     "output_type": "stream",
     "text": [
      "(2768, 440)\n",
      "(2768, 1320)\n",
      "(2241, 28, 440, 6) (2241, 1320)\n",
      "(500, 28, 440, 6) (500, 1320)\n"
     ]
    }
   ],
   "source": [
    "# data params\n",
    "test_size = 500;\n",
    "window_size = 28;\n",
    "\n",
    "X_train = np.array([InputDF[i:i + window_size] for i in range(InputDF.shape[0] - (test_size + window_size - 1) )])\n",
    "X_test = np.array([InputDF[i:i + window_size] for i in range(InputDF.shape[0] - (test_size + window_size - 1), InputDF.shape[0] - window_size + 1)])\n",
    "\n",
    "def decision(x):\n",
    "    margin = 0.01\n",
    "    print x.shape\n",
    "    labels = np.zeros((x.shape[0], x.shape[1] * 3))\n",
    "    print labels.shape\n",
    "    \n",
    "    for i in range(x.shape[0]):\n",
    "        for j in range(x.shape[1]):\n",
    "            if (x[i][j] >= np.log(1 + margin)):\n",
    "                labels[i][j * 3: (j+1) * 3] = [0, 0, 1]\n",
    "            elif (x[i][j] <= np.log(1 - margin)):\n",
    "                labels[i][j * 3: (j+1) * 3] = [1, 0, 0] \n",
    "            else:\n",
    "                labels[i][j * 3: (j+1) * 3] = [0, 1, 0] \n",
    "    # 2 -> buy\n",
    "    # 1 -> do nothing\n",
    "    # 0 -> sell\n",
    "    return labels\n",
    "\n",
    "\n",
    "y_all = decision(TargetDF)\n",
    "y_train = y_all[window_size - 1 : -test_size]\n",
    "y_test = y_all[-test_size:]\n",
    "\n",
    "\n",
    "# data shape\n",
    "print X_train.shape, y_train.shape\n",
    "print X_test.shape, y_test.shape"
   ]
  },
  {
   "cell_type": "code",
   "execution_count": 19,
   "metadata": {
    "collapsed": true,
    "deletable": true,
    "editable": true
   },
   "outputs": [],
   "source": [
    "# KERAS STARTS HERE\n",
    "batch_size = 32\n",
    "epochs = 100\n",
    "\n",
    "# dimensions\n",
    "input_shape = (window_size, tickers, channels)"
   ]
  },
  {
   "cell_type": "code",
   "execution_count": 20,
   "metadata": {
    "collapsed": false,
    "deletable": true,
    "editable": true
   },
   "outputs": [
    {
     "name": "stdout",
     "output_type": "stream",
     "text": [
      "_________________________________________________________________\n",
      "Layer (type)                 Output Shape              Param #   \n",
      "=================================================================\n",
      "conv2d_5 (Conv2D)            (None, 24, 436, 16)       2416      \n",
      "_________________________________________________________________\n",
      "conv2d_6 (Conv2D)            (None, 20, 432, 32)       12832     \n",
      "_________________________________________________________________\n",
      "max_pooling2d_3 (MaxPooling2 (None, 10, 216, 32)       0         \n",
      "_________________________________________________________________\n",
      "conv2d_7 (Conv2D)            (None, 8, 214, 64)        18496     \n",
      "_________________________________________________________________\n",
      "conv2d_8 (Conv2D)            (None, 6, 212, 128)       73856     \n",
      "_________________________________________________________________\n",
      "max_pooling2d_4 (MaxPooling2 (None, 3, 106, 128)       0         \n",
      "_________________________________________________________________\n",
      "dropout_2 (Dropout)          (None, 3, 106, 128)       0         \n",
      "_________________________________________________________________\n",
      "flatten_2 (Flatten)          (None, 40704)             0         \n",
      "_________________________________________________________________\n",
      "dense_3 (Dense)              (None, 2048)              83363840  \n",
      "_________________________________________________________________\n",
      "dense_4 (Dense)              (None, 1320)              2704680   \n",
      "_________________________________________________________________\n",
      "activation_2 (Activation)    (None, 1320)              0         \n",
      "=================================================================\n",
      "Total params: 86,176,120\n",
      "Trainable params: 86,176,120\n",
      "Non-trainable params: 0\n",
      "_________________________________________________________________\n",
      "None\n"
     ]
    }
   ],
   "source": [
    "# model definition\n",
    "# ADD PADDING??\n",
    "model = Sequential()\n",
    "model.add(Conv2D(16, kernel_size=(5, 5), activation='relu', input_shape=input_shape))\n",
    "model.add(Conv2D(32, kernel_size=(5, 5), activation='relu'))\n",
    "model.add(MaxPooling2D(pool_size=(2, 2)))\n",
    "model.add(Conv2D(64, kernel_size=(3, 3), activation='relu'))\n",
    "model.add(Conv2D(128, kernel_size=(3, 3), activation='relu'))\n",
    "model.add(MaxPooling2D(pool_size=(2, 2)))\n",
    "model.add(Dropout(0.25))\n",
    "model.add(Flatten())\n",
    "model.add(Dense(2048, activation='relu'))\n",
    "# model.add(Dropout(0.4))\n",
    "# model.add(Dense(1024, activation='relu'))\n",
    "# model.add(Dropout(0.4))\n",
    "model.add(Dense(1320))\n",
    "model.add(Activation('sigmoid'))\n",
    "\n",
    "print model.summary()\n",
    "\n",
    "# model.load_weights('weights-lowhidden.h5')"
   ]
  },
  {
   "cell_type": "code",
   "execution_count": 21,
   "metadata": {
    "collapsed": false,
    "deletable": true,
    "editable": true,
    "scrolled": true
   },
   "outputs": [],
   "source": [
    "sgd = SGD(lr=0.01, decay=1e-6, momentum=0.9, nesterov=True)\n",
    "# adam = Adam(lr=0.00001, beta_1=0.9, beta_2=0.999, epsilon=1e-08, decay=0.0)\n",
    "model.compile(loss='binary_crossentropy', optimizer=sgd, metrics=['accuracy'])\n",
    "\n",
    "\n",
    "model.load_weights('weights-best-extraconv.h5')\n",
    "\n",
    "tensorboard = keras.callbacks.TensorBoard(log_dir='./logs/3_sigmoid_extraconv_extrarun')\n",
    "reduce_lr = keras.callbacks.ReduceLROnPlateau(monitor='val_loss', factor=0.5, patience=5, min_lr=0.0001)\n",
    "\n",
    "# model.fit(X_train, y_train,\n",
    "#           batch_size=batch_size,\n",
    "#           epochs=epochs,\n",
    "#           verbose=1,\n",
    "#           validation_data=(X_test, y_test),\n",
    "#           callbacks=[tensorboard, reduce_lr])"
   ]
  },
  {
   "cell_type": "code",
   "execution_count": 23,
   "metadata": {
    "collapsed": false,
    "deletable": true,
    "editable": true
   },
   "outputs": [
    {
     "name": "stdout",
     "output_type": "stream",
     "text": [
      "Test loss: 0.570891589165\n",
      "Test accuracy: 0.715906037807\n"
     ]
    }
   ],
   "source": [
    "score = model.evaluate(X_test, y_test, verbose=0)\n",
    "\n",
    "print 'Test loss:', score[0]\n",
    "print 'Test accuracy:', score[1]\n"
   ]
  },
  {
   "cell_type": "code",
   "execution_count": 24,
   "metadata": {
    "collapsed": false,
    "scrolled": true
   },
   "outputs": [
    {
     "data": {
      "image/png": "[encoded data removed]",
      "text/plain": [
       "<matplotlib.figure.Figure at 0x7f76b47a1850>"
      ]
     },
     "metadata": {},
     "output_type": "display_data"
    }
   ],
   "source": [
    "predictions = model.predict(X_test)\n",
    "\n",
    "actions_actual = np.argmax(y_test.reshape(500, 440, 3), axis=-1) - 1\n",
    "\n",
    "actions_predicted = np.argmax(predictions.reshape(500, 440, 3), axis=-1) - 1\n",
    "\n",
    "x_axis = np.arange(len(y_test))\n",
    "\n",
    "fig, ax = plt.subplots()\n",
    "fig.suptitle('Returns over 500 Days (validation)', fontsize=14)\n",
    "\n",
    "line0 = ax.plot(x_axis, (actions_actual * TargetDF[-test_size:]).sum(1).cumsum(), label=\"optimal\")\n",
    "# ax.plot(x_axis, (actions_predicted * TargetDF[-test_size:]).sum(1).cumsum())\n",
    "\n",
    "line1 = ax.plot(x_axis, (real * TargetDF[-test_size:]).sum(1).cumsum(), label=\"ConvNet\")\n",
    "line2 = ax.plot(x_axis, (1 * TargetDF[-test_size:]).sum(1).cumsum(), label=\"baseline\")\n",
    "\n",
    "ax.legend(loc='upper left', shadow=True)\n",
    "\n",
    "plt.xlabel('Days', fontsize=12)\n",
    "plt.ylabel('Return', fontsize=12)\n",
    "\n",
    "# print normalize(predictions)\n",
    "# ax.set_ylim(ymin=-500, ymax=2500)\n",
    "ax.set_xlim(xmin=0, xmax=500)\n",
    "\n",
    "# ax.axhline(y=0, color='k')\n",
    "# ax.axvline(x=0, color='k')\n",
    "\n",
    "plt.grid()\n",
    "plt.show()"
   ]
  },
  {
   "cell_type": "code",
   "execution_count": 25,
   "metadata": {
    "collapsed": false
   },
   "outputs": [
    {
     "name": "stdout",
     "output_type": "stream",
     "text": [
      "\n",
      "\n",
      "Confusion Matrix: \n",
      "[[   2450.   42928.    4498.]\n",
      " [   1581.  111225.    3336.]\n",
      " [   2967.   46311.    4704.]]\n",
      "\n",
      "\n",
      "Accuracy : 0.538086363636\n"
     ]
    }
   ],
   "source": [
    "confusion_matrix = np.ndarray((3, 3))\n",
    "confusion_matrix[0][0] = len(np.where(actions_predicted[np.where(actions_actual == -1)] == -1)[0])\n",
    "confusion_matrix[0][1] = len(np.where(actions_predicted[np.where(actions_actual == -1)] == 0)[0])\n",
    "confusion_matrix[0][2] = len(np.where(actions_predicted[np.where(actions_actual == -1)] == 1)[0])\n",
    "confusion_matrix[1][0] = len(np.where(actions_predicted[np.where(actions_actual == 0)] == -1)[0])\n",
    "confusion_matrix[1][1] = len(np.where(actions_predicted[np.where(actions_actual == 0)] == 0)[0])\n",
    "confusion_matrix[1][2] = len(np.where(actions_predicted[np.where(actions_actual == 0)] == 1)[0])\n",
    "confusion_matrix[2][0] = len(np.where(actions_predicted[np.where(actions_actual == 1)] == -1)[0])\n",
    "confusion_matrix[2][1] = len(np.where(actions_predicted[np.where(actions_actual == 1)] == 0)[0])\n",
    "confusion_matrix[2][2] = len(np.where(actions_predicted[np.where(actions_actual == 1)] == 1)[0])\n",
    "\n",
    "\n",
    "print '\\n'\n",
    "print 'Confusion Matrix: '\n",
    "print confusion_matrix\n",
    "\n",
    "print '\\n'\n",
    "print 'Accuracy :', np.sum(confusion_matrix.diagonal()) / float(np.sum(confusion_matrix))"
   ]
  },
  {
   "cell_type": "code",
   "execution_count": null,
   "metadata": {
    "collapsed": true
   },
   "outputs": [],
   "source": []
  }
 ],
 "metadata": {
  "kernelspec": {
   "display_name": "Python 2",
   "language": "python",
   "name": "python2"
  },
  "language_info": {
   "codemirror_mode": {
    "name": "ipython",
    "version": 2
   },
   "file_extension": ".py",
   "mimetype": "text/x-python",
   "name": "python",
   "nbconvert_exporter": "python",
   "pygments_lexer": "ipython2",
   "version": "2.7.12"
  }
 },
 "nbformat": 4,
 "nbformat_minor": 2
}
